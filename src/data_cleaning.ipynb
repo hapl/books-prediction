{
 "cells": [
  {
   "cell_type": "code",
   "execution_count": 1,
   "metadata": {},
   "outputs": [
    {
     "name": "stderr",
     "output_type": "stream",
     "text": [
      "[nltk_data] Downloading package stopwords to /Users/hugo/nltk_data...\n",
      "[nltk_data]   Package stopwords is already up-to-date!\n",
      "[nltk_data] Downloading package wordnet to /Users/hugo/nltk_data...\n",
      "[nltk_data]   Package wordnet is already up-to-date!\n"
     ]
    }
   ],
   "source": [
    "import pandas as pd\n",
    "import numpy as np\n",
    "from modules.data_samples import get_data\n",
    "from modules.data_cleaning import data_cleaning_reviews\n",
    "from modules.utility_functions import create_wordcloud\n",
    "from modules.data_cleaning import data_cleaning_books\n",
    "import random\n",
    "import matplotlib.pyplot as plt\n",
    "import seaborn as sns\n",
    "sns.set_theme(style='darkgrid', context='talk')"
   ]
  },
  {
   "attachments": {},
   "cell_type": "markdown",
   "metadata": {},
   "source": [
    "### Get data sample"
   ]
  },
  {
   "cell_type": "code",
   "execution_count": 2,
   "metadata": {},
   "outputs": [],
   "source": [
    "df_books_sample,df_book_authors,df_book_reviews, df_book_genres  = get_data()"
   ]
  },
  {
   "attachments": {},
   "cell_type": "markdown",
   "metadata": {},
   "source": [
    "### Save samples to CSV for better handling"
   ]
  },
  {
   "cell_type": "code",
   "execution_count": 3,
   "metadata": {},
   "outputs": [],
   "source": [
    "df_books_sample.to_csv('../data/sample_data/books_sample.csv', index=False)\n",
    "df_book_authors.to_csv('../data/sample_data/authors_sample.csv', index=False)\n",
    "df_book_reviews.to_csv('../data/sample_data/reviews_sample.csv', index=False)\n",
    "df_book_genres.to_csv('../data/sample_data/genres_sample.csv', index=False)"
   ]
  },
  {
   "attachments": {},
   "cell_type": "markdown",
   "metadata": {},
   "source": [
    "### Get data sample for processing"
   ]
  },
  {
   "cell_type": "code",
   "execution_count": 4,
   "metadata": {},
   "outputs": [],
   "source": [
    "df_books_sample   = pd.read_csv('../data/sample_data/books_sample.csv')"
   ]
  },
  {
   "cell_type": "code",
   "execution_count": 5,
   "metadata": {},
   "outputs": [],
   "source": [
    "df_authors_sample = pd.read_csv('../data/sample_data/authors_sample.csv')"
   ]
  },
  {
   "cell_type": "code",
   "execution_count": 6,
   "metadata": {},
   "outputs": [],
   "source": [
    "df_reviews_sample = pd.read_csv('../data/sample_data/reviews_sample.csv')"
   ]
  },
  {
   "cell_type": "code",
   "execution_count": 7,
   "metadata": {},
   "outputs": [],
   "source": [
    "df_genres_sample = pd.read_csv('../data/sample_data/genres_sample.csv')"
   ]
  },
  {
   "attachments": {},
   "cell_type": "markdown",
   "metadata": {},
   "source": [
    "#### Data exploration and cleaning"
   ]
  },
  {
   "cell_type": "code",
   "execution_count": 8,
   "metadata": {},
   "outputs": [
    {
     "name": "stdout",
     "output_type": "stream",
     "text": [
      "<class 'pandas.core.frame.DataFrame'>\n",
      "RangeIndex: 23382 entries, 0 to 23381\n",
      "Data columns (total 14 columns):\n",
      " #   Column                Non-Null Count  Dtype  \n",
      "---  ------                --------------  -----  \n",
      " 0   text_reviews_count    23382 non-null  int64  \n",
      " 1   country_code          23382 non-null  object \n",
      " 2   language_code         13621 non-null  object \n",
      " 3   average_rating        23382 non-null  float64\n",
      " 4   description           23382 non-null  object \n",
      " 5   num_pages             23382 non-null  int64  \n",
      " 6   publication_year      23382 non-null  int64  \n",
      " 7   image_url             23382 non-null  object \n",
      " 8   book_id               23382 non-null  int64  \n",
      " 9   ratings_count         23382 non-null  int64  \n",
      " 10  title                 23382 non-null  object \n",
      " 11  title_without_series  23382 non-null  object \n",
      " 12  author                23382 non-null  int64  \n",
      " 13  name                  23382 non-null  object \n",
      "dtypes: float64(1), int64(6), object(7)\n",
      "memory usage: 2.5+ MB\n"
     ]
    }
   ],
   "source": [
    "df_books_sample.info()"
   ]
  },
  {
   "cell_type": "code",
   "execution_count": 10,
   "metadata": {},
   "outputs": [
    {
     "data": {
      "text/html": [
       "<div>\n",
       "<style scoped>\n",
       "    .dataframe tbody tr th:only-of-type {\n",
       "        vertical-align: middle;\n",
       "    }\n",
       "\n",
       "    .dataframe tbody tr th {\n",
       "        vertical-align: top;\n",
       "    }\n",
       "\n",
       "    .dataframe thead th {\n",
       "        text-align: right;\n",
       "    }\n",
       "</style>\n",
       "<table border=\"1\" class=\"dataframe\">\n",
       "  <thead>\n",
       "    <tr style=\"text-align: right;\">\n",
       "      <th></th>\n",
       "      <th>text_reviews_count</th>\n",
       "      <th>country_code</th>\n",
       "      <th>language_code</th>\n",
       "      <th>average_rating</th>\n",
       "      <th>description</th>\n",
       "      <th>num_pages</th>\n",
       "      <th>publication_year</th>\n",
       "      <th>image_url</th>\n",
       "      <th>book_id</th>\n",
       "      <th>ratings_count</th>\n",
       "      <th>title</th>\n",
       "      <th>title_without_series</th>\n",
       "      <th>author</th>\n",
       "      <th>name</th>\n",
       "    </tr>\n",
       "  </thead>\n",
       "  <tbody>\n",
       "    <tr>\n",
       "      <th>0</th>\n",
       "      <td>27</td>\n",
       "      <td>US</td>\n",
       "      <td>NaN</td>\n",
       "      <td>3.33</td>\n",
       "      <td>A love story about a girl who comes back from ...</td>\n",
       "      <td>208</td>\n",
       "      <td>2015</td>\n",
       "      <td>https://images.gr-assets.com/books/1415581655m...</td>\n",
       "      <td>22965343</td>\n",
       "      <td>52</td>\n",
       "      <td>Who Is Mackie Spence?</td>\n",
       "      <td>Who Is Mackie Spence?</td>\n",
       "      <td>8456833</td>\n",
       "      <td>Lin Kaymer</td>\n",
       "    </tr>\n",
       "    <tr>\n",
       "      <th>1</th>\n",
       "      <td>10</td>\n",
       "      <td>US</td>\n",
       "      <td>NaN</td>\n",
       "      <td>3.83</td>\n",
       "      <td>Military service was once taken for granted as...</td>\n",
       "      <td>256</td>\n",
       "      <td>2006</td>\n",
       "      <td>https://s.gr-assets.com/assets/nophoto/book/11...</td>\n",
       "      <td>80118</td>\n",
       "      <td>72</td>\n",
       "      <td>AWOL: The Unexcused Absence of America's Upper...</td>\n",
       "      <td>AWOL: The Unexcused Absence of America's Upper...</td>\n",
       "      <td>45600</td>\n",
       "      <td>Kathy Roth-Douquet</td>\n",
       "    </tr>\n",
       "    <tr>\n",
       "      <th>2</th>\n",
       "      <td>61</td>\n",
       "      <td>US</td>\n",
       "      <td>eng</td>\n",
       "      <td>3.95</td>\n",
       "      <td>Raenef is the black sheep of the demon court, ...</td>\n",
       "      <td>192</td>\n",
       "      <td>2003</td>\n",
       "      <td>https://images.gr-assets.com/books/1288648957m...</td>\n",
       "      <td>29497</td>\n",
       "      <td>4399</td>\n",
       "      <td>Demon Diary, Volume 01</td>\n",
       "      <td>Demon Diary, Volume 01</td>\n",
       "      <td>16589</td>\n",
       "      <td>Kara</td>\n",
       "    </tr>\n",
       "    <tr>\n",
       "      <th>3</th>\n",
       "      <td>207</td>\n",
       "      <td>US</td>\n",
       "      <td>eng</td>\n",
       "      <td>4.02</td>\n",
       "      <td>Set in South Carolina in 1964, The Secret Life...</td>\n",
       "      <td>333</td>\n",
       "      <td>2003</td>\n",
       "      <td>https://images.gr-assets.com/books/1444392146m...</td>\n",
       "      <td>6081433</td>\n",
       "      <td>3607</td>\n",
       "      <td>The Secret Life of Bees</td>\n",
       "      <td>The Secret Life of Bees</td>\n",
       "      <td>4711</td>\n",
       "      <td>Sue Monk Kidd</td>\n",
       "    </tr>\n",
       "    <tr>\n",
       "      <th>4</th>\n",
       "      <td>6</td>\n",
       "      <td>US</td>\n",
       "      <td>NaN</td>\n",
       "      <td>4.09</td>\n",
       "      <td>Cathy Cramer is a former lawyer and investigat...</td>\n",
       "      <td>305</td>\n",
       "      <td>2013</td>\n",
       "      <td>https://images.gr-assets.com/books/1356054466m...</td>\n",
       "      <td>16182612</td>\n",
       "      <td>47</td>\n",
       "      <td>Truth Stained Lies</td>\n",
       "      <td>Truth Stained Lies</td>\n",
       "      <td>19811</td>\n",
       "      <td>Terri Blackstock</td>\n",
       "    </tr>\n",
       "  </tbody>\n",
       "</table>\n",
       "</div>"
      ],
      "text/plain": [
       "   text_reviews_count country_code language_code  average_rating   \n",
       "0                  27           US           NaN            3.33  \\\n",
       "1                  10           US           NaN            3.83   \n",
       "2                  61           US           eng            3.95   \n",
       "3                 207           US           eng            4.02   \n",
       "4                   6           US           NaN            4.09   \n",
       "\n",
       "                                         description  num_pages   \n",
       "0  A love story about a girl who comes back from ...        208  \\\n",
       "1  Military service was once taken for granted as...        256   \n",
       "2  Raenef is the black sheep of the demon court, ...        192   \n",
       "3  Set in South Carolina in 1964, The Secret Life...        333   \n",
       "4  Cathy Cramer is a former lawyer and investigat...        305   \n",
       "\n",
       "   publication_year                                          image_url   \n",
       "0              2015  https://images.gr-assets.com/books/1415581655m...  \\\n",
       "1              2006  https://s.gr-assets.com/assets/nophoto/book/11...   \n",
       "2              2003  https://images.gr-assets.com/books/1288648957m...   \n",
       "3              2003  https://images.gr-assets.com/books/1444392146m...   \n",
       "4              2013  https://images.gr-assets.com/books/1356054466m...   \n",
       "\n",
       "    book_id  ratings_count                                              title   \n",
       "0  22965343             52                              Who Is Mackie Spence?  \\\n",
       "1     80118             72  AWOL: The Unexcused Absence of America's Upper...   \n",
       "2     29497           4399                             Demon Diary, Volume 01   \n",
       "3   6081433           3607                            The Secret Life of Bees   \n",
       "4  16182612             47                                 Truth Stained Lies   \n",
       "\n",
       "                                title_without_series   author   \n",
       "0                              Who Is Mackie Spence?  8456833  \\\n",
       "1  AWOL: The Unexcused Absence of America's Upper...    45600   \n",
       "2                             Demon Diary, Volume 01    16589   \n",
       "3                            The Secret Life of Bees     4711   \n",
       "4                                 Truth Stained Lies    19811   \n",
       "\n",
       "                 name  \n",
       "0          Lin Kaymer  \n",
       "1  Kathy Roth-Douquet  \n",
       "2                Kara  \n",
       "3       Sue Monk Kidd  \n",
       "4    Terri Blackstock  "
      ]
     },
     "execution_count": 10,
     "metadata": {},
     "output_type": "execute_result"
    }
   ],
   "source": [
    "df_books_sample.head()"
   ]
  },
  {
   "cell_type": "code",
   "execution_count": 11,
   "metadata": {},
   "outputs": [
    {
     "data": {
      "text/plain": [
       "(23382, 12)"
      ]
     },
     "execution_count": 11,
     "metadata": {},
     "output_type": "execute_result"
    }
   ],
   "source": [
    "#Remove unnecesary columns\n",
    "df_books_sample.drop(columns=['language_code','country_code'], inplace= True)\n",
    "df_books_sample.shape\n"
   ]
  },
  {
   "cell_type": "code",
   "execution_count": 12,
   "metadata": {},
   "outputs": [
    {
     "data": {
      "text/plain": [
       "text_reviews_count      0\n",
       "average_rating          0\n",
       "description             0\n",
       "num_pages               0\n",
       "publication_year        0\n",
       "image_url               0\n",
       "book_id                 0\n",
       "ratings_count           0\n",
       "title                   0\n",
       "title_without_series    0\n",
       "author                  0\n",
       "name                    0\n",
       "dtype: int64"
      ]
     },
     "execution_count": 12,
     "metadata": {},
     "output_type": "execute_result"
    }
   ],
   "source": [
    "df_books_sample.isnull().sum()"
   ]
  },
  {
   "cell_type": "code",
   "execution_count": 13,
   "metadata": {},
   "outputs": [
    {
     "data": {
      "image/png": "[encoded data removed]",
      "text/plain": [
       "<Figure size 640x480 with 1 Axes>"
      ]
     },
     "metadata": {},
     "output_type": "display_data"
    }
   ],
   "source": [
    "#Review books raiting\n",
    "ax = sns.histplot(df_books_sample[\"average_rating\"].astype(float),\n",
    "            bins= 30,\n",
    "            kde= True)\n",
    "ax.set(xlabel='Average rating', ylabel='Books count')\n",
    "plt.show()"
   ]
  },
  {
   "cell_type": "code",
   "execution_count": 13,
   "metadata": {},
   "outputs": [],
   "source": [
    "#df_books_sample[\"text_reviews_count\"].value_counts().head(60).plot(kind='barh', figsize=(10,15))\n",
    "#sns.countplot(y=\"text_reviews_count\", data=df_books_sample)"
   ]
  },
  {
   "cell_type": "code",
   "execution_count": 14,
   "metadata": {},
   "outputs": [
    {
     "data": {
      "image/png": "[encoded data removed]",
      "text/plain": [
       "<Figure size 640x480 with 1 Axes>"
      ]
     },
     "metadata": {},
     "output_type": "display_data"
    }
   ],
   "source": [
    "#Review pages distribution\n",
    "ax = sns.histplot(df_books_sample[\"num_pages\"].astype(float),\n",
    "            #bins= 30,\n",
    "            kde= True)\n",
    "ax.set(xlabel='Number of pages', ylabel='Books Count')\n",
    "plt.show()"
   ]
  },
  {
   "cell_type": "code",
   "execution_count": 15,
   "metadata": {},
   "outputs": [
    {
     "data": {
      "text/plain": [
       "text_reviews_count       0\n",
       "average_rating           0\n",
       "description              0\n",
       "num_pages               72\n",
       "publication_year         0\n",
       "image_url                0\n",
       "book_id                  0\n",
       "ratings_count            0\n",
       "title                    0\n",
       "title_without_series     0\n",
       "author                   0\n",
       "name                     0\n",
       "dtype: int64"
      ]
     },
     "execution_count": 15,
     "metadata": {},
     "output_type": "execute_result"
    }
   ],
   "source": [
    "#Check if books have values with 0\n",
    "df_books_sample.isin([0]).sum(axis=0)"
   ]
  },
  {
   "cell_type": "code",
   "execution_count": 16,
   "metadata": {},
   "outputs": [],
   "source": [
    "#Replace pages with value 0 with the median\n",
    "pages_median = df_books_sample['num_pages'].replace(0,pd.NA).median()"
   ]
  },
  {
   "cell_type": "code",
   "execution_count": 17,
   "metadata": {},
   "outputs": [],
   "source": [
    "df_books_sample[\"num_pages\"] = df_books_sample[\"num_pages\"].replace(0,pages_median)"
   ]
  },
  {
   "cell_type": "code",
   "execution_count": 19,
   "metadata": {},
   "outputs": [
    {
     "data": {
      "text/plain": [
       "text_reviews_count      0\n",
       "average_rating          0\n",
       "description             0\n",
       "num_pages               0\n",
       "publication_year        0\n",
       "image_url               0\n",
       "book_id                 0\n",
       "ratings_count           0\n",
       "title                   0\n",
       "title_without_series    0\n",
       "author                  0\n",
       "name                    0\n",
       "dtype: int64"
      ]
     },
     "execution_count": 19,
     "metadata": {},
     "output_type": "execute_result"
    }
   ],
   "source": [
    "df_books_sample.isin([0]).sum(axis=0)"
   ]
  },
  {
   "cell_type": "code",
   "execution_count": 20,
   "metadata": {},
   "outputs": [],
   "source": [
    "df_books_sample = data_cleaning_books(df_books_sample)"
   ]
  },
  {
   "cell_type": "code",
   "execution_count": 21,
   "metadata": {},
   "outputs": [
    {
     "data": {
      "text/html": [
       "<div>\n",
       "<style scoped>\n",
       "    .dataframe tbody tr th:only-of-type {\n",
       "        vertical-align: middle;\n",
       "    }\n",
       "\n",
       "    .dataframe tbody tr th {\n",
       "        vertical-align: top;\n",
       "    }\n",
       "\n",
       "    .dataframe thead th {\n",
       "        text-align: right;\n",
       "    }\n",
       "</style>\n",
       "<table border=\"1\" class=\"dataframe\">\n",
       "  <thead>\n",
       "    <tr style=\"text-align: right;\">\n",
       "      <th></th>\n",
       "      <th>text_reviews_count</th>\n",
       "      <th>average_rating</th>\n",
       "      <th>description</th>\n",
       "      <th>num_pages</th>\n",
       "      <th>publication_year</th>\n",
       "      <th>image_url</th>\n",
       "      <th>book_id</th>\n",
       "      <th>ratings_count</th>\n",
       "      <th>title</th>\n",
       "      <th>title_without_series</th>\n",
       "      <th>author</th>\n",
       "      <th>name</th>\n",
       "      <th>description_text_clean</th>\n",
       "    </tr>\n",
       "  </thead>\n",
       "  <tbody>\n",
       "    <tr>\n",
       "      <th>0</th>\n",
       "      <td>27</td>\n",
       "      <td>3.33</td>\n",
       "      <td>A love story about a girl who comes back from ...</td>\n",
       "      <td>208</td>\n",
       "      <td>2015</td>\n",
       "      <td>https://images.gr-assets.com/books/1415581655m...</td>\n",
       "      <td>22965343</td>\n",
       "      <td>52</td>\n",
       "      <td>Who Is Mackie Spence?</td>\n",
       "      <td>Who Is Mackie Spence?</td>\n",
       "      <td>8456833</td>\n",
       "      <td>Lin Kaymer</td>\n",
       "      <td>[love, story, girl, come, back, neardeath, exp...</td>\n",
       "    </tr>\n",
       "    <tr>\n",
       "      <th>1</th>\n",
       "      <td>10</td>\n",
       "      <td>3.83</td>\n",
       "      <td>Military service was once taken for granted as...</td>\n",
       "      <td>256</td>\n",
       "      <td>2006</td>\n",
       "      <td>https://s.gr-assets.com/assets/nophoto/book/11...</td>\n",
       "      <td>80118</td>\n",
       "      <td>72</td>\n",
       "      <td>AWOL: The Unexcused Absence of America's Upper...</td>\n",
       "      <td>AWOL: The Unexcused Absence of America's Upper...</td>\n",
       "      <td>45600</td>\n",
       "      <td>Kathy Roth-Douquet</td>\n",
       "      <td>[military, service, taken, granted, natural, p...</td>\n",
       "    </tr>\n",
       "    <tr>\n",
       "      <th>2</th>\n",
       "      <td>61</td>\n",
       "      <td>3.95</td>\n",
       "      <td>Raenef is the black sheep of the demon court, ...</td>\n",
       "      <td>192</td>\n",
       "      <td>2003</td>\n",
       "      <td>https://images.gr-assets.com/books/1288648957m...</td>\n",
       "      <td>29497</td>\n",
       "      <td>4399</td>\n",
       "      <td>Demon Diary, Volume 01</td>\n",
       "      <td>Demon Diary, Volume 01</td>\n",
       "      <td>16589</td>\n",
       "      <td>Kara</td>\n",
       "      <td>[raenef, black, sheep, demon, court, minimal, ...</td>\n",
       "    </tr>\n",
       "    <tr>\n",
       "      <th>3</th>\n",
       "      <td>207</td>\n",
       "      <td>4.02</td>\n",
       "      <td>Set in South Carolina in 1964, The Secret Life...</td>\n",
       "      <td>333</td>\n",
       "      <td>2003</td>\n",
       "      <td>https://images.gr-assets.com/books/1444392146m...</td>\n",
       "      <td>6081433</td>\n",
       "      <td>3607</td>\n",
       "      <td>The Secret Life of Bees</td>\n",
       "      <td>The Secret Life of Bees</td>\n",
       "      <td>4711</td>\n",
       "      <td>Sue Monk Kidd</td>\n",
       "      <td>[set, south, carolina, secret, life, beestells...</td>\n",
       "    </tr>\n",
       "    <tr>\n",
       "      <th>4</th>\n",
       "      <td>6</td>\n",
       "      <td>4.09</td>\n",
       "      <td>Cathy Cramer is a former lawyer and investigat...</td>\n",
       "      <td>305</td>\n",
       "      <td>2013</td>\n",
       "      <td>https://images.gr-assets.com/books/1356054466m...</td>\n",
       "      <td>16182612</td>\n",
       "      <td>47</td>\n",
       "      <td>Truth Stained Lies</td>\n",
       "      <td>Truth Stained Lies</td>\n",
       "      <td>19811</td>\n",
       "      <td>Terri Blackstock</td>\n",
       "      <td>[cathy, cramer, former, lawyer, investigative,...</td>\n",
       "    </tr>\n",
       "  </tbody>\n",
       "</table>\n",
       "</div>"
      ],
      "text/plain": [
       "   text_reviews_count  average_rating   \n",
       "0                  27            3.33  \\\n",
       "1                  10            3.83   \n",
       "2                  61            3.95   \n",
       "3                 207            4.02   \n",
       "4                   6            4.09   \n",
       "\n",
       "                                         description  num_pages   \n",
       "0  A love story about a girl who comes back from ...        208  \\\n",
       "1  Military service was once taken for granted as...        256   \n",
       "2  Raenef is the black sheep of the demon court, ...        192   \n",
       "3  Set in South Carolina in 1964, The Secret Life...        333   \n",
       "4  Cathy Cramer is a former lawyer and investigat...        305   \n",
       "\n",
       "   publication_year                                          image_url   \n",
       "0              2015  https://images.gr-assets.com/books/1415581655m...  \\\n",
       "1              2006  https://s.gr-assets.com/assets/nophoto/book/11...   \n",
       "2              2003  https://images.gr-assets.com/books/1288648957m...   \n",
       "3              2003  https://images.gr-assets.com/books/1444392146m...   \n",
       "4              2013  https://images.gr-assets.com/books/1356054466m...   \n",
       "\n",
       "    book_id  ratings_count                                              title   \n",
       "0  22965343             52                              Who Is Mackie Spence?  \\\n",
       "1     80118             72  AWOL: The Unexcused Absence of America's Upper...   \n",
       "2     29497           4399                             Demon Diary, Volume 01   \n",
       "3   6081433           3607                            The Secret Life of Bees   \n",
       "4  16182612             47                                 Truth Stained Lies   \n",
       "\n",
       "                                title_without_series   author   \n",
       "0                              Who Is Mackie Spence?  8456833  \\\n",
       "1  AWOL: The Unexcused Absence of America's Upper...    45600   \n",
       "2                             Demon Diary, Volume 01    16589   \n",
       "3                            The Secret Life of Bees     4711   \n",
       "4                                 Truth Stained Lies    19811   \n",
       "\n",
       "                 name                             description_text_clean  \n",
       "0          Lin Kaymer  [love, story, girl, come, back, neardeath, exp...  \n",
       "1  Kathy Roth-Douquet  [military, service, taken, granted, natural, p...  \n",
       "2                Kara  [raenef, black, sheep, demon, court, minimal, ...  \n",
       "3       Sue Monk Kidd  [set, south, carolina, secret, life, beestells...  \n",
       "4    Terri Blackstock  [cathy, cramer, former, lawyer, investigative,...  "
      ]
     },
     "execution_count": 21,
     "metadata": {},
     "output_type": "execute_result"
    }
   ],
   "source": [
    "df_books_sample.head()"
   ]
  },
  {
   "cell_type": "code",
   "execution_count": 22,
   "metadata": {},
   "outputs": [
    {
     "data": {
      "text/plain": [
       "author_id    0\n",
       "name         0\n",
       "dtype: int64"
      ]
     },
     "execution_count": 22,
     "metadata": {},
     "output_type": "execute_result"
    }
   ],
   "source": [
    "df_authors_sample.isnull().sum()"
   ]
  },
  {
   "cell_type": "code",
   "execution_count": 23,
   "metadata": {},
   "outputs": [],
   "source": [
    "authors_group = df_books_sample.groupby('name', as_index=False)['book_id'].count().sort_values(by='book_id', ascending=False).head(10)\n"
   ]
  },
  {
   "cell_type": "code",
   "execution_count": 24,
   "metadata": {},
   "outputs": [
    {
     "data": {
      "text/html": [
       "<div>\n",
       "<style scoped>\n",
       "    .dataframe tbody tr th:only-of-type {\n",
       "        vertical-align: middle;\n",
       "    }\n",
       "\n",
       "    .dataframe tbody tr th {\n",
       "        vertical-align: top;\n",
       "    }\n",
       "\n",
       "    .dataframe thead th {\n",
       "        text-align: right;\n",
       "    }\n",
       "</style>\n",
       "<table border=\"1\" class=\"dataframe\">\n",
       "  <thead>\n",
       "    <tr style=\"text-align: right;\">\n",
       "      <th></th>\n",
       "      <th>name</th>\n",
       "      <th>book_id</th>\n",
       "    </tr>\n",
       "  </thead>\n",
       "  <tbody>\n",
       "    <tr>\n",
       "      <th>196</th>\n",
       "      <td>Agatha Christie</td>\n",
       "      <td>54</td>\n",
       "    </tr>\n",
       "    <tr>\n",
       "      <th>6324</th>\n",
       "      <td>James Patterson</td>\n",
       "      <td>49</td>\n",
       "    </tr>\n",
       "    <tr>\n",
       "      <th>14330</th>\n",
       "      <td>Stephen King</td>\n",
       "      <td>42</td>\n",
       "    </tr>\n",
       "    <tr>\n",
       "      <th>4860</th>\n",
       "      <td>Francine Pascal</td>\n",
       "      <td>37</td>\n",
       "    </tr>\n",
       "    <tr>\n",
       "      <th>15864</th>\n",
       "      <td>William Shakespeare</td>\n",
       "      <td>36</td>\n",
       "    </tr>\n",
       "    <tr>\n",
       "      <th>11616</th>\n",
       "      <td>Nora Roberts</td>\n",
       "      <td>31</td>\n",
       "    </tr>\n",
       "    <tr>\n",
       "      <th>14930</th>\n",
       "      <td>Terry Pratchett</td>\n",
       "      <td>28</td>\n",
       "    </tr>\n",
       "    <tr>\n",
       "      <th>2043</th>\n",
       "      <td>C.S. Lewis</td>\n",
       "      <td>26</td>\n",
       "    </tr>\n",
       "    <tr>\n",
       "      <th>1113</th>\n",
       "      <td>Anonymous</td>\n",
       "      <td>23</td>\n",
       "    </tr>\n",
       "    <tr>\n",
       "      <th>11422</th>\n",
       "      <td>Neil Gaiman</td>\n",
       "      <td>23</td>\n",
       "    </tr>\n",
       "  </tbody>\n",
       "</table>\n",
       "</div>"
      ],
      "text/plain": [
       "                      name  book_id\n",
       "196        Agatha Christie       54\n",
       "6324       James Patterson       49\n",
       "14330         Stephen King       42\n",
       "4860       Francine Pascal       37\n",
       "15864  William Shakespeare       36\n",
       "11616         Nora Roberts       31\n",
       "14930      Terry Pratchett       28\n",
       "2043            C.S. Lewis       26\n",
       "1113             Anonymous       23\n",
       "11422          Neil Gaiman       23"
      ]
     },
     "execution_count": 24,
     "metadata": {},
     "output_type": "execute_result"
    }
   ],
   "source": [
    "authors_group"
   ]
  },
  {
   "cell_type": "code",
   "execution_count": 25,
   "metadata": {},
   "outputs": [
    {
     "data": {
      "image/png": "[encoded data removed]",
      "text/plain": [
       "<Figure size 1600x900 with 1 Axes>"
      ]
     },
     "metadata": {},
     "output_type": "display_data"
    }
   ],
   "source": [
    "#Top 10 authors in the dataset sample\n",
    "ax = sns.set(rc={'figure.figsize':(16,9)})\n",
    "\n",
    "\n",
    "sns.barplot(data= authors_group, x='name', y='book_id', hue='name', dodge=False).set(xticklabels=[],xlabel='Author', ylabel='Books Count');\n",
    "plt.show()"
   ]
  },
  {
   "cell_type": "code",
   "execution_count": 26,
   "metadata": {},
   "outputs": [
    {
     "name": "stdout",
     "output_type": "stream",
     "text": [
      "<class 'pandas.core.frame.DataFrame'>\n",
      "RangeIndex: 523874 entries, 0 to 523873\n",
      "Data columns (total 11 columns):\n",
      " #   Column        Non-Null Count   Dtype \n",
      "---  ------        --------------   ----- \n",
      " 0   user_id       523874 non-null  object\n",
      " 1   book_id       523874 non-null  int64 \n",
      " 2   review_id     523874 non-null  object\n",
      " 3   rating        523874 non-null  int64 \n",
      " 4   review_text   523669 non-null  object\n",
      " 5   date_added    523874 non-null  object\n",
      " 6   date_updated  523874 non-null  object\n",
      " 7   read_at       435137 non-null  object\n",
      " 8   started_at    307493 non-null  object\n",
      " 9   n_votes       523874 non-null  int64 \n",
      " 10  n_comments    523874 non-null  int64 \n",
      "dtypes: int64(4), object(7)\n",
      "memory usage: 44.0+ MB\n"
     ]
    }
   ],
   "source": [
    "df_reviews_sample.info()"
   ]
  },
  {
   "cell_type": "code",
   "execution_count": 27,
   "metadata": {},
   "outputs": [
    {
     "data": {
      "text/html": [
       "<div>\n",
       "<style scoped>\n",
       "    .dataframe tbody tr th:only-of-type {\n",
       "        vertical-align: middle;\n",
       "    }\n",
       "\n",
       "    .dataframe tbody tr th {\n",
       "        vertical-align: top;\n",
       "    }\n",
       "\n",
       "    .dataframe thead th {\n",
       "        text-align: right;\n",
       "    }\n",
       "</style>\n",
       "<table border=\"1\" class=\"dataframe\">\n",
       "  <thead>\n",
       "    <tr style=\"text-align: right;\">\n",
       "      <th></th>\n",
       "      <th>user_id</th>\n",
       "      <th>book_id</th>\n",
       "      <th>review_id</th>\n",
       "      <th>rating</th>\n",
       "      <th>review_text</th>\n",
       "      <th>date_added</th>\n",
       "      <th>date_updated</th>\n",
       "      <th>read_at</th>\n",
       "      <th>started_at</th>\n",
       "      <th>n_votes</th>\n",
       "      <th>n_comments</th>\n",
       "    </tr>\n",
       "  </thead>\n",
       "  <tbody>\n",
       "    <tr>\n",
       "      <th>0</th>\n",
       "      <td>8842281e1d1347389f2ab93d60773d4d</td>\n",
       "      <td>20873740</td>\n",
       "      <td>ef77b0cd7d5db0a85aa64f291d63d450</td>\n",
       "      <td>5</td>\n",
       "      <td>I haven't read a ton of \"history of the world\"...</td>\n",
       "      <td>Tue May 17 20:59:38 -0700 2016</td>\n",
       "      <td>Tue May 17 20:59:38 -0700 2016</td>\n",
       "      <td>Sat Aug 13 00:00:00 -0700 2016</td>\n",
       "      <td>Fri Jul 01 00:00:00 -0700 2016</td>\n",
       "      <td>68</td>\n",
       "      <td>5</td>\n",
       "    </tr>\n",
       "    <tr>\n",
       "      <th>1</th>\n",
       "      <td>8842281e1d1347389f2ab93d60773d4d</td>\n",
       "      <td>23310161</td>\n",
       "      <td>f4b4b050f4be00e9283c92a814af2670</td>\n",
       "      <td>4</td>\n",
       "      <td>Fun sequel to the original.</td>\n",
       "      <td>Tue Nov 17 11:37:35 -0800 2015</td>\n",
       "      <td>Tue Nov 17 11:38:05 -0800 2015</td>\n",
       "      <td>NaN</td>\n",
       "      <td>NaN</td>\n",
       "      <td>7</td>\n",
       "      <td>0</td>\n",
       "    </tr>\n",
       "    <tr>\n",
       "      <th>2</th>\n",
       "      <td>8842281e1d1347389f2ab93d60773d4d</td>\n",
       "      <td>12953520</td>\n",
       "      <td>8666dfd554e310084c4bc72b2d357f3d</td>\n",
       "      <td>4</td>\n",
       "      <td>A hilarious romp through the known and unknown...</td>\n",
       "      <td>Tue Jul 10 20:26:21 -0700 2012</td>\n",
       "      <td>Wed Sep 12 23:32:04 -0700 2012</td>\n",
       "      <td>Mon Sep 10 00:00:00 -0700 2012</td>\n",
       "      <td>Tue Sep 04 00:00:00 -0700 2012</td>\n",
       "      <td>1</td>\n",
       "      <td>0</td>\n",
       "    </tr>\n",
       "    <tr>\n",
       "      <th>3</th>\n",
       "      <td>8842281e1d1347389f2ab93d60773d4d</td>\n",
       "      <td>77430</td>\n",
       "      <td>28007503b429dc6724da7076ae7306b4</td>\n",
       "      <td>5</td>\n",
       "      <td>One of the most enjoyable stories I've read in...</td>\n",
       "      <td>Tue Jan 13 11:12:38 -0800 2009</td>\n",
       "      <td>Wed Mar 22 11:46:19 -0700 2017</td>\n",
       "      <td>Sat May 23 00:00:00 -0700 2009</td>\n",
       "      <td>NaN</td>\n",
       "      <td>5</td>\n",
       "      <td>0</td>\n",
       "    </tr>\n",
       "    <tr>\n",
       "      <th>4</th>\n",
       "      <td>8842281e1d1347389f2ab93d60773d4d</td>\n",
       "      <td>1953</td>\n",
       "      <td>70c420b9b26d869a1ef8548b20a9edeb</td>\n",
       "      <td>4</td>\n",
       "      <td>On loan to Diana Sonn</td>\n",
       "      <td>Wed Dec 05 12:25:38 -0800 2007</td>\n",
       "      <td>Wed Mar 22 11:45:51 -0700 2017</td>\n",
       "      <td>NaN</td>\n",
       "      <td>NaN</td>\n",
       "      <td>2</td>\n",
       "      <td>0</td>\n",
       "    </tr>\n",
       "  </tbody>\n",
       "</table>\n",
       "</div>"
      ],
      "text/plain": [
       "                            user_id   book_id   \n",
       "0  8842281e1d1347389f2ab93d60773d4d  20873740  \\\n",
       "1  8842281e1d1347389f2ab93d60773d4d  23310161   \n",
       "2  8842281e1d1347389f2ab93d60773d4d  12953520   \n",
       "3  8842281e1d1347389f2ab93d60773d4d     77430   \n",
       "4  8842281e1d1347389f2ab93d60773d4d      1953   \n",
       "\n",
       "                          review_id  rating   \n",
       "0  ef77b0cd7d5db0a85aa64f291d63d450       5  \\\n",
       "1  f4b4b050f4be00e9283c92a814af2670       4   \n",
       "2  8666dfd554e310084c4bc72b2d357f3d       4   \n",
       "3  28007503b429dc6724da7076ae7306b4       5   \n",
       "4  70c420b9b26d869a1ef8548b20a9edeb       4   \n",
       "\n",
       "                                         review_text   \n",
       "0  I haven't read a ton of \"history of the world\"...  \\\n",
       "1                        Fun sequel to the original.   \n",
       "2  A hilarious romp through the known and unknown...   \n",
       "3  One of the most enjoyable stories I've read in...   \n",
       "4                              On loan to Diana Sonn   \n",
       "\n",
       "                       date_added                    date_updated   \n",
       "0  Tue May 17 20:59:38 -0700 2016  Tue May 17 20:59:38 -0700 2016  \\\n",
       "1  Tue Nov 17 11:37:35 -0800 2015  Tue Nov 17 11:38:05 -0800 2015   \n",
       "2  Tue Jul 10 20:26:21 -0700 2012  Wed Sep 12 23:32:04 -0700 2012   \n",
       "3  Tue Jan 13 11:12:38 -0800 2009  Wed Mar 22 11:46:19 -0700 2017   \n",
       "4  Wed Dec 05 12:25:38 -0800 2007  Wed Mar 22 11:45:51 -0700 2017   \n",
       "\n",
       "                          read_at                      started_at  n_votes   \n",
       "0  Sat Aug 13 00:00:00 -0700 2016  Fri Jul 01 00:00:00 -0700 2016       68  \\\n",
       "1                             NaN                             NaN        7   \n",
       "2  Mon Sep 10 00:00:00 -0700 2012  Tue Sep 04 00:00:00 -0700 2012        1   \n",
       "3  Sat May 23 00:00:00 -0700 2009                             NaN        5   \n",
       "4                             NaN                             NaN        2   \n",
       "\n",
       "   n_comments  \n",
       "0           5  \n",
       "1           0  \n",
       "2           0  \n",
       "3           0  \n",
       "4           0  "
      ]
     },
     "execution_count": 27,
     "metadata": {},
     "output_type": "execute_result"
    }
   ],
   "source": [
    "df_reviews_sample.head()"
   ]
  },
  {
   "cell_type": "code",
   "execution_count": 28,
   "metadata": {},
   "outputs": [
    {
     "data": {
      "text/plain": [
       "(523874, 11)"
      ]
     },
     "execution_count": 28,
     "metadata": {},
     "output_type": "execute_result"
    }
   ],
   "source": [
    "df_reviews_sample.shape"
   ]
  },
  {
   "cell_type": "code",
   "execution_count": 29,
   "metadata": {},
   "outputs": [
    {
     "data": {
      "text/plain": [
       "(523874, 7)"
      ]
     },
     "execution_count": 29,
     "metadata": {},
     "output_type": "execute_result"
    }
   ],
   "source": [
    "#Remove unnecesary columns\n",
    "df_reviews_sample.drop(columns=['date_added','date_updated','read_at','started_at'], inplace= True)\n",
    "df_reviews_sample.shape"
   ]
  },
  {
   "cell_type": "code",
   "execution_count": 30,
   "metadata": {},
   "outputs": [
    {
     "data": {
      "text/html": [
       "<div>\n",
       "<style scoped>\n",
       "    .dataframe tbody tr th:only-of-type {\n",
       "        vertical-align: middle;\n",
       "    }\n",
       "\n",
       "    .dataframe tbody tr th {\n",
       "        vertical-align: top;\n",
       "    }\n",
       "\n",
       "    .dataframe thead th {\n",
       "        text-align: right;\n",
       "    }\n",
       "</style>\n",
       "<table border=\"1\" class=\"dataframe\">\n",
       "  <thead>\n",
       "    <tr style=\"text-align: right;\">\n",
       "      <th></th>\n",
       "      <th>user_id</th>\n",
       "      <th>book_id</th>\n",
       "      <th>review_id</th>\n",
       "      <th>rating</th>\n",
       "      <th>review_text</th>\n",
       "      <th>n_votes</th>\n",
       "      <th>n_comments</th>\n",
       "    </tr>\n",
       "  </thead>\n",
       "  <tbody>\n",
       "    <tr>\n",
       "      <th>0</th>\n",
       "      <td>8842281e1d1347389f2ab93d60773d4d</td>\n",
       "      <td>20873740</td>\n",
       "      <td>ef77b0cd7d5db0a85aa64f291d63d450</td>\n",
       "      <td>5</td>\n",
       "      <td>I haven't read a ton of \"history of the world\"...</td>\n",
       "      <td>68</td>\n",
       "      <td>5</td>\n",
       "    </tr>\n",
       "    <tr>\n",
       "      <th>1</th>\n",
       "      <td>8842281e1d1347389f2ab93d60773d4d</td>\n",
       "      <td>23310161</td>\n",
       "      <td>f4b4b050f4be00e9283c92a814af2670</td>\n",
       "      <td>4</td>\n",
       "      <td>Fun sequel to the original.</td>\n",
       "      <td>7</td>\n",
       "      <td>0</td>\n",
       "    </tr>\n",
       "    <tr>\n",
       "      <th>2</th>\n",
       "      <td>8842281e1d1347389f2ab93d60773d4d</td>\n",
       "      <td>12953520</td>\n",
       "      <td>8666dfd554e310084c4bc72b2d357f3d</td>\n",
       "      <td>4</td>\n",
       "      <td>A hilarious romp through the known and unknown...</td>\n",
       "      <td>1</td>\n",
       "      <td>0</td>\n",
       "    </tr>\n",
       "    <tr>\n",
       "      <th>3</th>\n",
       "      <td>8842281e1d1347389f2ab93d60773d4d</td>\n",
       "      <td>77430</td>\n",
       "      <td>28007503b429dc6724da7076ae7306b4</td>\n",
       "      <td>5</td>\n",
       "      <td>One of the most enjoyable stories I've read in...</td>\n",
       "      <td>5</td>\n",
       "      <td>0</td>\n",
       "    </tr>\n",
       "    <tr>\n",
       "      <th>4</th>\n",
       "      <td>8842281e1d1347389f2ab93d60773d4d</td>\n",
       "      <td>1953</td>\n",
       "      <td>70c420b9b26d869a1ef8548b20a9edeb</td>\n",
       "      <td>4</td>\n",
       "      <td>On loan to Diana Sonn</td>\n",
       "      <td>2</td>\n",
       "      <td>0</td>\n",
       "    </tr>\n",
       "  </tbody>\n",
       "</table>\n",
       "</div>"
      ],
      "text/plain": [
       "                            user_id   book_id   \n",
       "0  8842281e1d1347389f2ab93d60773d4d  20873740  \\\n",
       "1  8842281e1d1347389f2ab93d60773d4d  23310161   \n",
       "2  8842281e1d1347389f2ab93d60773d4d  12953520   \n",
       "3  8842281e1d1347389f2ab93d60773d4d     77430   \n",
       "4  8842281e1d1347389f2ab93d60773d4d      1953   \n",
       "\n",
       "                          review_id  rating   \n",
       "0  ef77b0cd7d5db0a85aa64f291d63d450       5  \\\n",
       "1  f4b4b050f4be00e9283c92a814af2670       4   \n",
       "2  8666dfd554e310084c4bc72b2d357f3d       4   \n",
       "3  28007503b429dc6724da7076ae7306b4       5   \n",
       "4  70c420b9b26d869a1ef8548b20a9edeb       4   \n",
       "\n",
       "                                         review_text  n_votes  n_comments  \n",
       "0  I haven't read a ton of \"history of the world\"...       68           5  \n",
       "1                        Fun sequel to the original.        7           0  \n",
       "2  A hilarious romp through the known and unknown...        1           0  \n",
       "3  One of the most enjoyable stories I've read in...        5           0  \n",
       "4                              On loan to Diana Sonn        2           0  "
      ]
     },
     "execution_count": 30,
     "metadata": {},
     "output_type": "execute_result"
    }
   ],
   "source": [
    "df_reviews_sample.head()"
   ]
  },
  {
   "cell_type": "code",
   "execution_count": 31,
   "metadata": {},
   "outputs": [
    {
     "name": "stdout",
     "output_type": "stream",
     "text": [
      "<class 'pandas.core.frame.DataFrame'>\n",
      "RangeIndex: 523874 entries, 0 to 523873\n",
      "Data columns (total 7 columns):\n",
      " #   Column       Non-Null Count   Dtype \n",
      "---  ------       --------------   ----- \n",
      " 0   user_id      523874 non-null  object\n",
      " 1   book_id      523874 non-null  int64 \n",
      " 2   review_id    523874 non-null  object\n",
      " 3   rating       523874 non-null  int64 \n",
      " 4   review_text  523669 non-null  object\n",
      " 5   n_votes      523874 non-null  int64 \n",
      " 6   n_comments   523874 non-null  int64 \n",
      "dtypes: int64(4), object(3)\n",
      "memory usage: 28.0+ MB\n"
     ]
    }
   ],
   "source": [
    "df_reviews_sample.info()"
   ]
  },
  {
   "cell_type": "code",
   "execution_count": 35,
   "metadata": {},
   "outputs": [],
   "source": [
    "df_reviews_sample['review_text'] = df_reviews_sample['review_text'].astype(str)"
   ]
  },
  {
   "cell_type": "code",
   "execution_count": 36,
   "metadata": {},
   "outputs": [
    {
     "name": "stdout",
     "output_type": "stream",
     "text": [
      "<class 'pandas.core.frame.DataFrame'>\n",
      "RangeIndex: 523874 entries, 0 to 523873\n",
      "Data columns (total 7 columns):\n",
      " #   Column       Non-Null Count   Dtype \n",
      "---  ------       --------------   ----- \n",
      " 0   user_id      523874 non-null  object\n",
      " 1   book_id      523874 non-null  int64 \n",
      " 2   review_id    523874 non-null  object\n",
      " 3   rating       523874 non-null  int64 \n",
      " 4   review_text  523874 non-null  object\n",
      " 5   n_votes      523874 non-null  int64 \n",
      " 6   n_comments   523874 non-null  int64 \n",
      "dtypes: int64(4), object(3)\n",
      "memory usage: 28.0+ MB\n"
     ]
    }
   ],
   "source": [
    "df_reviews_sample.info()"
   ]
  },
  {
   "cell_type": "code",
   "execution_count": 37,
   "metadata": {},
   "outputs": [],
   "source": [
    "df_reviews_sample_p = data_cleaning_reviews(df_reviews_sample)"
   ]
  },
  {
   "cell_type": "code",
   "execution_count": 38,
   "metadata": {},
   "outputs": [
    {
     "data": {
      "text/html": [
       "<div>\n",
       "<style scoped>\n",
       "    .dataframe tbody tr th:only-of-type {\n",
       "        vertical-align: middle;\n",
       "    }\n",
       "\n",
       "    .dataframe tbody tr th {\n",
       "        vertical-align: top;\n",
       "    }\n",
       "\n",
       "    .dataframe thead th {\n",
       "        text-align: right;\n",
       "    }\n",
       "</style>\n",
       "<table border=\"1\" class=\"dataframe\">\n",
       "  <thead>\n",
       "    <tr style=\"text-align: right;\">\n",
       "      <th></th>\n",
       "      <th>user_id</th>\n",
       "      <th>book_id</th>\n",
       "      <th>review_id</th>\n",
       "      <th>rating</th>\n",
       "      <th>review_text</th>\n",
       "      <th>n_votes</th>\n",
       "      <th>n_comments</th>\n",
       "      <th>review_text_clean</th>\n",
       "    </tr>\n",
       "  </thead>\n",
       "  <tbody>\n",
       "    <tr>\n",
       "      <th>0</th>\n",
       "      <td>8842281e1d1347389f2ab93d60773d4d</td>\n",
       "      <td>20873740</td>\n",
       "      <td>ef77b0cd7d5db0a85aa64f291d63d450</td>\n",
       "      <td>5</td>\n",
       "      <td>I haven't read a ton of \"history of the world\"...</td>\n",
       "      <td>68</td>\n",
       "      <td>5</td>\n",
       "      <td>[havent, read, ton, history, world, books,, fa...</td>\n",
       "    </tr>\n",
       "    <tr>\n",
       "      <th>1</th>\n",
       "      <td>8842281e1d1347389f2ab93d60773d4d</td>\n",
       "      <td>23310161</td>\n",
       "      <td>f4b4b050f4be00e9283c92a814af2670</td>\n",
       "      <td>4</td>\n",
       "      <td>Fun sequel to the original.</td>\n",
       "      <td>7</td>\n",
       "      <td>0</td>\n",
       "      <td>[fun, sequel, original.]</td>\n",
       "    </tr>\n",
       "    <tr>\n",
       "      <th>2</th>\n",
       "      <td>8842281e1d1347389f2ab93d60773d4d</td>\n",
       "      <td>12953520</td>\n",
       "      <td>8666dfd554e310084c4bc72b2d357f3d</td>\n",
       "      <td>4</td>\n",
       "      <td>A hilarious romp through the known and unknown...</td>\n",
       "      <td>1</td>\n",
       "      <td>0</td>\n",
       "      <td>[hilarious, romp, known, unknown, universe, ex...</td>\n",
       "    </tr>\n",
       "    <tr>\n",
       "      <th>3</th>\n",
       "      <td>8842281e1d1347389f2ab93d60773d4d</td>\n",
       "      <td>77430</td>\n",
       "      <td>28007503b429dc6724da7076ae7306b4</td>\n",
       "      <td>5</td>\n",
       "      <td>One of the most enjoyable stories I've read in...</td>\n",
       "      <td>5</td>\n",
       "      <td>0</td>\n",
       "      <td>[one, enjoyable, story, ive, read, time., capt...</td>\n",
       "    </tr>\n",
       "    <tr>\n",
       "      <th>4</th>\n",
       "      <td>8842281e1d1347389f2ab93d60773d4d</td>\n",
       "      <td>1953</td>\n",
       "      <td>70c420b9b26d869a1ef8548b20a9edeb</td>\n",
       "      <td>4</td>\n",
       "      <td>On loan to Diana Sonn</td>\n",
       "      <td>2</td>\n",
       "      <td>0</td>\n",
       "      <td>[loan, diana, sonn]</td>\n",
       "    </tr>\n",
       "    <tr>\n",
       "      <th>...</th>\n",
       "      <td>...</td>\n",
       "      <td>...</td>\n",
       "      <td>...</td>\n",
       "      <td>...</td>\n",
       "      <td>...</td>\n",
       "      <td>...</td>\n",
       "      <td>...</td>\n",
       "      <td>...</td>\n",
       "    </tr>\n",
       "    <tr>\n",
       "      <th>523869</th>\n",
       "      <td>480ac8b4df39533a6c7fe6ae109aa56a</td>\n",
       "      <td>65112</td>\n",
       "      <td>6251b6332ee9f898fe0e975821eb747e</td>\n",
       "      <td>2</td>\n",
       "      <td>Does not give a satisfying ending to the serie...</td>\n",
       "      <td>0</td>\n",
       "      <td>0</td>\n",
       "      <td>[give, satisfying, ending, series., disappoint...</td>\n",
       "    </tr>\n",
       "    <tr>\n",
       "      <th>523870</th>\n",
       "      <td>afcd096765a8c354be0706ab1324999b</td>\n",
       "      <td>555999</td>\n",
       "      <td>a4f8b16d5c0c5dc08d0f3fa118a262b4</td>\n",
       "      <td>5</td>\n",
       "      <td>My mother gave me this book as a gift... it's ...</td>\n",
       "      <td>0</td>\n",
       "      <td>0</td>\n",
       "      <td>[mother, gave, book, gift..., adorable.]</td>\n",
       "    </tr>\n",
       "    <tr>\n",
       "      <th>523871</th>\n",
       "      <td>bd2f9703203bda8e2defdfffc7eb5a10</td>\n",
       "      <td>17262138</td>\n",
       "      <td>9d9c9843ac68b2c5ec877641b3c29baa</td>\n",
       "      <td>4</td>\n",
       "      <td>This is an interesting snapshot of Paris right...</td>\n",
       "      <td>0</td>\n",
       "      <td>0</td>\n",
       "      <td>[interesting, snapshot, paris, right, time, ro...</td>\n",
       "    </tr>\n",
       "    <tr>\n",
       "      <th>523872</th>\n",
       "      <td>1be08d25e7d8114b3c49a126ed57acdf</td>\n",
       "      <td>13596809</td>\n",
       "      <td>9517373abb3f5933a479cc5032f669d7</td>\n",
       "      <td>5</td>\n",
       "      <td>The author is brilliant. The storyline was wel...</td>\n",
       "      <td>0</td>\n",
       "      <td>0</td>\n",
       "      <td>[author, brilliant., storyline, well, made, st...</td>\n",
       "    </tr>\n",
       "    <tr>\n",
       "      <th>523873</th>\n",
       "      <td>1be08d25e7d8114b3c49a126ed57acdf</td>\n",
       "      <td>164719</td>\n",
       "      <td>95aabb1cb49d31fe899ea2dd9dfc3632</td>\n",
       "      <td>5</td>\n",
       "      <td>I thought the end of this story would be a tra...</td>\n",
       "      <td>0</td>\n",
       "      <td>0</td>\n",
       "      <td>[thought, end, story, would, tragedy..., ive, ...</td>\n",
       "    </tr>\n",
       "  </tbody>\n",
       "</table>\n",
       "<p>523874 rows × 8 columns</p>\n",
       "</div>"
      ],
      "text/plain": [
       "                                 user_id   book_id   \n",
       "0       8842281e1d1347389f2ab93d60773d4d  20873740  \\\n",
       "1       8842281e1d1347389f2ab93d60773d4d  23310161   \n",
       "2       8842281e1d1347389f2ab93d60773d4d  12953520   \n",
       "3       8842281e1d1347389f2ab93d60773d4d     77430   \n",
       "4       8842281e1d1347389f2ab93d60773d4d      1953   \n",
       "...                                  ...       ...   \n",
       "523869  480ac8b4df39533a6c7fe6ae109aa56a     65112   \n",
       "523870  afcd096765a8c354be0706ab1324999b    555999   \n",
       "523871  bd2f9703203bda8e2defdfffc7eb5a10  17262138   \n",
       "523872  1be08d25e7d8114b3c49a126ed57acdf  13596809   \n",
       "523873  1be08d25e7d8114b3c49a126ed57acdf    164719   \n",
       "\n",
       "                               review_id  rating   \n",
       "0       ef77b0cd7d5db0a85aa64f291d63d450       5  \\\n",
       "1       f4b4b050f4be00e9283c92a814af2670       4   \n",
       "2       8666dfd554e310084c4bc72b2d357f3d       4   \n",
       "3       28007503b429dc6724da7076ae7306b4       5   \n",
       "4       70c420b9b26d869a1ef8548b20a9edeb       4   \n",
       "...                                  ...     ...   \n",
       "523869  6251b6332ee9f898fe0e975821eb747e       2   \n",
       "523870  a4f8b16d5c0c5dc08d0f3fa118a262b4       5   \n",
       "523871  9d9c9843ac68b2c5ec877641b3c29baa       4   \n",
       "523872  9517373abb3f5933a479cc5032f669d7       5   \n",
       "523873  95aabb1cb49d31fe899ea2dd9dfc3632       5   \n",
       "\n",
       "                                              review_text  n_votes   \n",
       "0       I haven't read a ton of \"history of the world\"...       68  \\\n",
       "1                             Fun sequel to the original.        7   \n",
       "2       A hilarious romp through the known and unknown...        1   \n",
       "3       One of the most enjoyable stories I've read in...        5   \n",
       "4                                   On loan to Diana Sonn        2   \n",
       "...                                                   ...      ...   \n",
       "523869  Does not give a satisfying ending to the serie...        0   \n",
       "523870  My mother gave me this book as a gift... it's ...        0   \n",
       "523871  This is an interesting snapshot of Paris right...        0   \n",
       "523872  The author is brilliant. The storyline was wel...        0   \n",
       "523873  I thought the end of this story would be a tra...        0   \n",
       "\n",
       "        n_comments                                  review_text_clean  \n",
       "0                5  [havent, read, ton, history, world, books,, fa...  \n",
       "1                0                           [fun, sequel, original.]  \n",
       "2                0  [hilarious, romp, known, unknown, universe, ex...  \n",
       "3                0  [one, enjoyable, story, ive, read, time., capt...  \n",
       "4                0                                [loan, diana, sonn]  \n",
       "...            ...                                                ...  \n",
       "523869           0  [give, satisfying, ending, series., disappoint...  \n",
       "523870           0           [mother, gave, book, gift..., adorable.]  \n",
       "523871           0  [interesting, snapshot, paris, right, time, ro...  \n",
       "523872           0  [author, brilliant., storyline, well, made, st...  \n",
       "523873           0  [thought, end, story, would, tragedy..., ive, ...  \n",
       "\n",
       "[523874 rows x 8 columns]"
      ]
     },
     "execution_count": 38,
     "metadata": {},
     "output_type": "execute_result"
    }
   ],
   "source": [
    "df_reviews_sample_p"
   ]
  },
  {
   "cell_type": "code",
   "execution_count": 39,
   "metadata": {},
   "outputs": [
    {
     "name": "stdout",
     "output_type": "stream",
     "text": [
      "<class 'pandas.core.frame.DataFrame'>\n",
      "RangeIndex: 111704 entries, 0 to 111703\n",
      "Data columns (total 2 columns):\n",
      " #   Column   Non-Null Count   Dtype \n",
      "---  ------   --------------   ----- \n",
      " 0   book_id  111704 non-null  int64 \n",
      " 1   genres   111704 non-null  object\n",
      "dtypes: int64(1), object(1)\n",
      "memory usage: 1.7+ MB\n"
     ]
    }
   ],
   "source": [
    "df_genres_sample.info()"
   ]
  },
  {
   "cell_type": "code",
   "execution_count": 40,
   "metadata": {},
   "outputs": [],
   "source": [
    "book_genres_group = df_genres_sample.groupby('genres')['genres'].count().rename_axis('genre_name').reset_index(name='count')"
   ]
  },
  {
   "cell_type": "code",
   "execution_count": 41,
   "metadata": {},
   "outputs": [],
   "source": [
    "book_genres_group = book_genres_group.sort_values(by='count', ascending= False)"
   ]
  },
  {
   "cell_type": "code",
   "execution_count": 42,
   "metadata": {},
   "outputs": [
    {
     "data": {
      "image/png": "[encoded data removed]",
      "text/plain": [
       "<Figure size 1600x900 with 1 Axes>"
      ]
     },
     "metadata": {},
     "output_type": "display_data"
    }
   ],
   "source": [
    "#Book genre and count\n",
    "ax = sns.set(rc={'figure.figsize':(16,9)})\n",
    "sns.barplot(data= book_genres_group, x='genre_name', y='count', hue='genre_name', dodge=False).set(xticklabels=[],xlabel='Book genre', ylabel='Count');\n",
    "plt.show()"
   ]
  },
  {
   "cell_type": "code",
   "execution_count": 43,
   "metadata": {},
   "outputs": [],
   "source": [
    "df_books_sample.to_csv('../data/sample_data/processed/books_sample.csv', index=False)\n",
    "df_authors_sample.to_csv('../data/sample_data/processed/authors_sample.csv', index=False)\n",
    "df_reviews_sample_p.to_csv('../data/sample_data/processed/reviews_sample.csv', index=False)\n",
    "df_genres_sample.to_csv('../data/sample_data/processed/genres_sample.csv', index=False)"
   ]
  },
  {
   "cell_type": "code",
   "execution_count": 27,
   "metadata": {},
   "outputs": [],
   "source": [
    "df_books_sample.to_csv('../data/sample_data/processed/books_sample.csv', index=False)\n",
    "df_reviews_sample_p.to_csv('../data/sample_data/processed/reviews_sample.csv', index=False)"
   ]
  }
 ],
 "metadata": {
  "kernelspec": {
   "display_name": "dev1",
   "language": "python",
   "name": "python3"
  },
  "language_info": {
   "codemirror_mode": {
    "name": "ipython",
    "version": 3
   },
   "file_extension": ".py",
   "mimetype": "text/x-python",
   "name": "python",
   "nbconvert_exporter": "python",
   "pygments_lexer": "ipython3",
   "version": "3.9.16"
  },
  "orig_nbformat": 4
 },
 "nbformat": 4,
 "nbformat_minor": 2
}
